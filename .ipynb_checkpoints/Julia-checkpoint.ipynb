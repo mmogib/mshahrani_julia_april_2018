{
 "cells": [
  {
   "cell_type": "markdown",
   "metadata": {
    "slideshow": {
     "slide_type": "slide"
    }
   },
   "source": [
    "<div style=\"width:90%;  margin: auto;text-align: center\">\n",
    "<img src='./julia_logo.svg'>\n",
    "<hr>\n",
    "<h3 style=\"margin-top:-2px;\">A Fresh Approach To Technical Computing</h3>\n",
    "<h5 >   Mohammed Alshahrani, </h5>\n",
    "<h6>Department Of Mathematics & Statistics, KFUPM </h6>\n",
    "<h6> April 11, 2018 </h6>\n",
    "</div>"
   ]
  },
  {
   "cell_type": "markdown",
   "metadata": {
    "slideshow": {
     "slide_type": "skip"
    }
   },
   "source": [
    "# Note: \n",
    "---\n",
    "I'm not an expert on Julia, everything I say here may be taken with a grain of salt. This is the (possibly incoherent) ramblings of someone who knows a bit about Julia and thinks highly of what they are doing.\n",
    "Please take upon yourself to verify what I am saying."
   ]
  },
  {
   "cell_type": "markdown",
   "metadata": {
    "slideshow": {
     "slide_type": "slide"
    }
   },
   "source": [
    "## What is Julia?"
   ]
  },
  {
   "cell_type": "markdown",
   "metadata": {
    "slideshow": {
     "slide_type": "fragment"
    }
   },
   "source": [
    "- Programming language: (high-level, high-performance dynamic programming language)\n"
   ]
  },
  {
   "cell_type": "markdown",
   "metadata": {
    "slideshow": {
     "slide_type": "fragment"
    }
   },
   "source": [
    "- Its design incorporates best ideas from other languages"
   ]
  },
  {
   "cell_type": "markdown",
   "metadata": {
    "slideshow": {
     "slide_type": "fragment"
    }
   },
   "source": [
    "- Easy to learn, quick to prototype with (like Python, Matlab...; unlike C, C++, Java, ...)"
   ]
  },
  {
   "cell_type": "markdown",
   "metadata": {
    "slideshow": {
     "slide_type": "fragment"
    }
   },
   "source": [
    "- Free (like basically every language; unlike Matlab, Mathematica, Maple)"
   ]
  },
  {
   "cell_type": "markdown",
   "metadata": {
    "slideshow": {
     "slide_type": "subslide"
    }
   },
   "source": [
    "<div class=\"right-header\"><h2>What is Julia?...</h2></div>\n",
    "- Interactive (IJulia + Jupyter)"
   ]
  },
  {
   "cell_type": "markdown",
   "metadata": {
    "slideshow": {
     "slide_type": "fragment"
    }
   },
   "source": [
    "- Compiled, therefore fast (like C, C++, ...; unlike Python, Matlab, Ruby, ...)"
   ]
  },
  {
   "cell_type": "markdown",
   "metadata": {
    "slideshow": {
     "slide_type": "fragment"
    }
   },
   "source": [
    "- Extensible (Julia’s Base library, largely written in Julia itself, also integrates mature, best-of-breed open source C and Fortran libraries)"
   ]
  },
  {
   "cell_type": "markdown",
   "metadata": {
    "slideshow": {
     "slide_type": "fragment"
    }
   },
   "source": [
    "- Packages designed to interact with each other (Julia’s built-in package manager)"
   ]
  },
  {
   "cell_type": "markdown",
   "metadata": {
    "slideshow": {
     "slide_type": "slide"
    }
   },
   "source": [
    "# Why Julia?\n",
    "### To Solve the two-languege probblem.\n",
    "---\n",
    "__In Scientific/Numerical Computing__:\n",
    "\n",
    " The two-language problem refers to prototyping with one slow dynamic language (Matlab, Mathematic, Maple, ...) and rewrite it with a fast static language (C, C++, Fortran,...) for the final product.\n"
   ]
  },
  {
   "cell_type": "markdown",
   "metadata": {
    "slideshow": {
     "slide_type": "subslide"
    }
   },
   "source": [
    "__In Data Science__: \n",
    "\n",
    "Before actually doing computation on data (in R, Matlab, ...), one needs to clean up a messy data set (Python, Ruby, Java ...), \n",
    "* some kind of string manipulation, \n",
    "* pattern matching, \n",
    "* shell commands, \n",
    "* run some code in another language. \n",
    "* convert data to another format, and send it over the network or serve via a HTTP server.\n",
    "\n"
   ]
  },
  {
   "cell_type": "markdown",
   "metadata": {
    "slideshow": {
     "slide_type": "slide"
    }
   },
   "source": [
    "# History\n",
    "\n",
    "* Work on Julia was started in 2009 by Jeff Bezanson, Stefan Karpinski, Viral B. Shah, Alan Edelman and later Keno Fischer who set out to create a language that was both high-level and fast. Read their post on lauching Julia [https://julialang.org/blog/2012/02/why-we-created-julia](https://julialang.org/blog/2012/02/why-we-created-julia)\n",
    "![Founders](./founders.png)\n",
    "*  Since then, the Julia community has grown, with over 1,800,000 downloads as of January 2018"
   ]
  },
  {
   "cell_type": "markdown",
   "metadata": {
    "slideshow": {
     "slide_type": "subslide"
    }
   },
   "source": [
    "* In 2015, the Federal Reserve Bank of New York used Julia to make models of the US economy, noting that the language made model estimation \"about 10 times faster\" than before (previously used MATLAB). \n",
    "* At the 2017 JuliaCon conference, it was announced that the Celeste project used Julia to achieve \"peak performance of 1.54 petaflop using 1.3 million threads\" on 9300 Knights Landing (KNL) nodes of the Cori supercomputer (the 5th fastest in the world at the time; 8th fastest as of November 2017). __Julia thus joins C, C++, and Fortran as high-level languages in which petaflop computations have been written__."
   ]
  },
  {
   "cell_type": "markdown",
   "metadata": {
    "slideshow": {
     "slide_type": "slide"
    }
   },
   "source": [
    "# Syntax"
   ]
  },
  {
   "cell_type": "code",
   "execution_count": 37,
   "metadata": {
    "slideshow": {
     "slide_type": "slide"
    }
   },
   "outputs": [
    {
     "data": {
      "text/plain": [
       "bisect (generic function with 1 method)"
      ]
     },
     "execution_count": 37,
     "metadata": {},
     "output_type": "execute_result"
    }
   ],
   "source": [
    "# Learn by example\n",
    "# keyword arguments\n",
    "function bisect(f::Function, a::Number, b; maxiter=500, ϵ=1e-8)\n",
    "    # tuple assignment\n",
    "    fa, fb = f(a), f(b)\n",
    "    \n",
    "    history=[(Float64(a),Float64(fa))]\n",
    "    push!(history,(b,fb))\n",
    "    # ternary operator\n",
    "    fa*fb > 0 ? error(\"f(a) and f(b) must have different signs\") : nothing\n",
    "    # short circuiting\n",
    "    #fa*fb > 0 && error(\"f(a) and f(b) must have different signs\")\n",
    "    \n",
    "    #for i=1:maxiter\n",
    "    #for i in 1:maxiter\n",
    "    for i ∈ 1:maxiter\n",
    "        c = (a+b)/2\n",
    "        fc = f(c)\n",
    "        push!(history,(c,fc))\n",
    "        abs(fc) > ϵ ? nothing : return c, history\n",
    "        \n",
    "#         abs(fc) > ϵ && return(c, fc)\n",
    "\n",
    "        if fa*fc > 0.0\n",
    "             a = c\n",
    "            fa = fc\n",
    "        else\n",
    "            b = c\n",
    "            fb = fc\n",
    "        end\n",
    "    end\n",
    "\n",
    "    error(\"Failed to converge in $maxiter iterations\")\n",
    "end"
   ]
  },
  {
   "cell_type": "code",
   "execution_count": 48,
   "metadata": {
    "slideshow": {
     "slide_type": "slide"
    }
   },
   "outputs": [
    {
     "name": "stdout",
     "output_type": "stream",
     "text": [
      "the root is 2.0000000001164153 and f(2.0000000001164153)=2.3283064365386963e-10Tuple{Float64,Float64}[(1.0, -1.0), (10.0, 80.0), (5.5, 19.25), (3.25, 4.0625), (2.125, 0.265625), (1.5625, -0.683594), (1.84375, -0.288086), (1.98438, -0.0310059), (2.05469, 0.112366), (2.01953, 0.039444), (2.00195, 0.00391006), (1.99316, -0.0136251), (1.99756, -0.00487685), (1.99976, -0.000488222), (2.00085, 0.00170971), (2.00031, 0.000610445), (2.00003, 6.10361e-5), (1.99989, -0.000213612), (1.99996, -7.62925e-5), (2.0, -7.62938e-6), (2.00001, 2.67031e-5), (2.0, 9.53677e-6), (2.0, 9.53675e-7), (2.0, -3.33786e-6), (2.0, -1.19209e-6), (2.0, -1.19209e-7), (2.0, 4.17233e-7), (2.0, 1.49012e-7), (2.0, 1.49012e-8), (2.0, -5.21541e-8), (2.0, -1.86265e-8), (2.0, -1.86265e-9), (2.0, 6.51926e-9), (2.0, 2.32831e-9), (2.0, 2.32831e-10)]"
     ]
    }
   ],
   "source": [
    "f(x)=x^2-2x\n",
    "root,history=bisect(f,1,10, ϵ=1e-9, maxiter=500)\n",
    "print(string(\"the root is \",root, \" and f($root)=$(f(root))\"), history)"
   ]
  },
  {
   "cell_type": "code",
   "execution_count": 39,
   "metadata": {},
   "outputs": [
    {
     "data": {
      "text/plain": [
       "Plots.PlotlyJSBackend()"
      ]
     },
     "execution_count": 39,
     "metadata": {},
     "output_type": "execute_result"
    }
   ],
   "source": [
    "\n",
    "using Plots\n",
    "plotlyjs()"
   ]
  },
  {
   "cell_type": "code",
   "execution_count": 49,
   "metadata": {},
   "outputs": [
    {
     "data": {
      "text/html": [
       "<div id=\"20f69a08-6698-4c70-91b3-04174925e427\" class=\"plotly-graph-div\"></div>\n",
       "\n",
       "<script>\n",
       "    (function() {\n",
       "        var data_20f69a08 = [{\"showlegend\":true,\"mode\":\"lines\",\"xaxis\":\"x\",\"colorbar\":{\"title\":\"\"},\"line\":{\"color\":\"rgba(0, 154, 250, 1.000)\",\"width\":1,\"dash\":\"solid\",\"shape\":\"linear\"},\"y\":[7.31059448641758,2.237196185176674,0.31797073255218644,-0.6430480303206874,-0.9999996110726557,-0.6952972647239335,0.30674929907745874,2.3416437102868244,4.937318160957178,7.823205099160745,11.618788967083098,16.120208304911706,21.894808197704947,28.166926331783216,35.49270625655856,42.295045109668116,51.387598140803064,60.72452979939658,77.27808581526295],\"type\":\"scatter\",\"name\":\"y1\",\"yaxis\":\"y\",\"x\":[-1.8828101717625425,-0.7992209939795261,-0.1480290643325135,0.4025454245891888,1.000623640396617,1.551998854415538,2.1431313568778783,2.8280163320623872,3.4366612733322572,3.97038803848264,4.552293479863833,5.1376573450337455,5.784851951492851,6.400641288938122,7.040919322136206,7.579897044002141,8.237927751836368,8.856496025544503,9.84749036819272]},{\"showlegend\":true,\"mode\":\"markers\",\"xaxis\":\"x\",\"colorbar\":{\"title\":\"\"},\"x\":[1.0,10.0,5.5,3.25,2.125,1.5625,1.84375,1.984375,2.0546875,2.01953125,2.001953125,1.9931640625,1.99755859375,1.999755859375,2.0008544921875,2.00030517578125,2.000030517578125,1.9998931884765625,1.9999618530273438,1.9999961853027344,2.0000133514404297,2.000004768371582,2.000000476837158,1.9999983310699463,1.9999994039535522,1.9999999403953552,2.0000002086162567,2.000000074505806,2.0000000074505806,1.999999973922968,1.9999999906867743,1.9999999990686774,2.000000003259629,2.000000001164153,2.0000000001164153],\"y\":[-1.0,80.0,19.25,4.0625,0.265625,-0.68359375,-0.2880859375,-0.031005859375,0.11236572265625,0.0394439697265625,0.003910064697265625,-0.013625144958496094,-0.004876852035522461,-0.0004882216453552246,0.0017097145318984985,0.0006104446947574615,6.103608757257462e-5,-0.00021361163817346096,-7.629249012097716e-5,-7.629379979334772e-6,2.6703059120336547e-5,9.536765901430044e-6,9.536745437799254e-7,-3.337857322094351e-6,-1.1920925402364446e-6,-1.1920928599806757e-7,4.1723255694847694e-7,1.4901161726754708e-7,1.4901161193847656e-8,-5.215406329028838e-8,-1.862645149230957e-8,-1.862645149230957e-9,6.51925802230835e-9,2.3283064365386963e-9,2.3283064365386963e-10],\"type\":\"scatter\",\"name\":\"y2\",\"yaxis\":\"y\",\"marker\":{\"symbol\":\"circle\",\"color\":[\"rgba(227, 111, 71, 1.000)\",\"rgba(227, 111, 71, 1.000)\",\"rgba(227, 111, 71, 1.000)\",\"rgba(227, 111, 71, 1.000)\",\"rgba(227, 111, 71, 1.000)\",\"rgba(227, 111, 71, 1.000)\",\"rgba(227, 111, 71, 1.000)\",\"rgba(227, 111, 71, 1.000)\",\"rgba(227, 111, 71, 1.000)\",\"rgba(227, 111, 71, 1.000)\",\"rgba(227, 111, 71, 1.000)\",\"rgba(227, 111, 71, 1.000)\",\"rgba(227, 111, 71, 1.000)\",\"rgba(227, 111, 71, 1.000)\",\"rgba(227, 111, 71, 1.000)\",\"rgba(227, 111, 71, 1.000)\",\"rgba(227, 111, 71, 1.000)\",\"rgba(227, 111, 71, 1.000)\",\"rgba(227, 111, 71, 1.000)\",\"rgba(227, 111, 71, 1.000)\",\"rgba(227, 111, 71, 1.000)\",\"rgba(227, 111, 71, 1.000)\",\"rgba(227, 111, 71, 1.000)\",\"rgba(227, 111, 71, 1.000)\",\"rgba(227, 111, 71, 1.000)\",\"rgba(227, 111, 71, 1.000)\",\"rgba(227, 111, 71, 1.000)\",\"rgba(227, 111, 71, 1.000)\",\"rgba(227, 111, 71, 1.000)\",\"rgba(227, 111, 71, 1.000)\",\"rgba(227, 111, 71, 1.000)\",\"rgba(227, 111, 71, 1.000)\",\"rgba(227, 111, 71, 1.000)\",\"rgba(227, 111, 71, 1.000)\",\"rgba(227, 111, 71, 1.000)\"],\"line\":{\"color\":[\"rgba(0, 0, 0, 1.000)\",\"rgba(0, 0, 0, 1.000)\",\"rgba(0, 0, 0, 1.000)\",\"rgba(0, 0, 0, 1.000)\",\"rgba(0, 0, 0, 1.000)\",\"rgba(0, 0, 0, 1.000)\",\"rgba(0, 0, 0, 1.000)\",\"rgba(0, 0, 0, 1.000)\",\"rgba(0, 0, 0, 1.000)\",\"rgba(0, 0, 0, 1.000)\",\"rgba(0, 0, 0, 1.000)\",\"rgba(0, 0, 0, 1.000)\",\"rgba(0, 0, 0, 1.000)\",\"rgba(0, 0, 0, 1.000)\",\"rgba(0, 0, 0, 1.000)\",\"rgba(0, 0, 0, 1.000)\",\"rgba(0, 0, 0, 1.000)\",\"rgba(0, 0, 0, 1.000)\",\"rgba(0, 0, 0, 1.000)\",\"rgba(0, 0, 0, 1.000)\",\"rgba(0, 0, 0, 1.000)\",\"rgba(0, 0, 0, 1.000)\",\"rgba(0, 0, 0, 1.000)\",\"rgba(0, 0, 0, 1.000)\",\"rgba(0, 0, 0, 1.000)\",\"rgba(0, 0, 0, 1.000)\",\"rgba(0, 0, 0, 1.000)\",\"rgba(0, 0, 0, 1.000)\",\"rgba(0, 0, 0, 1.000)\",\"rgba(0, 0, 0, 1.000)\",\"rgba(0, 0, 0, 1.000)\",\"rgba(0, 0, 0, 1.000)\",\"rgba(0, 0, 0, 1.000)\",\"rgba(0, 0, 0, 1.000)\",\"rgba(0, 0, 0, 1.000)\"],\"width\":1},\"size\":8}},{\"showlegend\":true,\"mode\":\"markers\",\"xaxis\":\"x\",\"colorbar\":{\"title\":\"\"},\"x\":[2.0000000001164153],\"y\":[2.3283064365386963e-10],\"type\":\"scatter\",\"name\":\"x₁=2.0000000001164153\",\"yaxis\":\"y\",\"marker\":{\"symbol\":\"circle\",\"color\":[\"rgba(62, 164, 78, 1.000)\"],\"line\":{\"color\":[\"rgba(0, 0, 0, 1.000)\"],\"width\":1},\"size\":10}}];\n",
       "var layout_20f69a08 = {\"showlegend\":true,\"xaxis\":{\"showticklabels\":true,\"gridwidth\":0.5,\"tickvals\":[0.0,2.5,5.0,7.5,10.0],\"visible\":true,\"ticks\":\"inside\",\"range\":[-2.239294476915419,10.356484305152875],\"domain\":[0.03619130941965587,0.9934383202099738],\"tickmode\":\"array\",\"linecolor\":\"rgba(0, 0, 0, 1.000)\",\"showgrid\":true,\"title\":\"\",\"mirror\":false,\"tickangle\":0,\"showline\":true,\"gridcolor\":\"rgba(0, 0, 0, 0.100)\",\"titlefont\":{\"color\":\"rgba(0, 0, 0, 1.000)\",\"family\":\"sans-serif\",\"size\":15},\"tickcolor\":\"rgb(0, 0, 0)\",\"ticktext\":[\"0.0\",\"2.5\",\"5.0\",\"7.5\",\"10.0\"],\"zeroline\":false,\"type\":\"-\",\"tickfont\":{\"color\":\"rgba(0, 0, 0, 1.000)\",\"family\":\"sans-serif\",\"size\":11},\"zerolinecolor\":\"rgba(0, 0, 0, 1.000)\",\"anchor\":\"y\"},\"paper_bgcolor\":\"rgba(255, 255, 255, 1.000)\",\"annotations\":[],\"height\":400,\"margin\":{\"l\":0,\"b\":20,\"r\":0,\"t\":20},\"plot_bgcolor\":\"rgba(255, 255, 255, 1.000)\",\"yaxis\":{\"showticklabels\":true,\"gridwidth\":0.5,\"tickvals\":[0.0,20.0,40.0,60.0,80.0],\"visible\":true,\"ticks\":\"inside\",\"range\":[-3.4299999999999997,82.43],\"domain\":[0.03762029746281716,0.9901574803149606],\"tickmode\":\"array\",\"linecolor\":\"rgba(0, 0, 0, 1.000)\",\"showgrid\":true,\"title\":\"\",\"mirror\":false,\"tickangle\":0,\"showline\":true,\"gridcolor\":\"rgba(0, 0, 0, 0.100)\",\"titlefont\":{\"color\":\"rgba(0, 0, 0, 1.000)\",\"family\":\"sans-serif\",\"size\":15},\"tickcolor\":\"rgb(0, 0, 0)\",\"ticktext\":[\"0\",\"20\",\"40\",\"60\",\"80\"],\"zeroline\":false,\"type\":\"-\",\"tickfont\":{\"color\":\"rgba(0, 0, 0, 1.000)\",\"family\":\"sans-serif\",\"size\":11},\"zerolinecolor\":\"rgba(0, 0, 0, 1.000)\",\"anchor\":\"x\"},\"legend\":{\"bordercolor\":\"rgba(0, 0, 0, 1.000)\",\"bgcolor\":\"rgba(255, 255, 255, 1.000)\",\"font\":{\"color\":\"rgba(0, 0, 0, 1.000)\",\"family\":\"sans-serif\",\"size\":11},\"y\":1.0,\"x\":1.0},\"width\":600};\n",
       "\n",
       "        if (!requirejs.specified('plotly')) {\n",
       "          requirejs.config({\n",
       "            paths: {\n",
       "              'plotly_cdn': ['https://cdn.plot.ly/plotly-latest.min']\n",
       "            },\n",
       "          });\n",
       "          require(['plotly_cdn'], function(Plotly) {\n",
       "            Plotly.newPlot('20f69a08-6698-4c70-91b3-04174925e427',\n",
       "    data_20f69a08, layout_20f69a08,\n",
       "    {showLink: false}\n",
       ");\n",
       "\n",
       "          });\n",
       "        } else {\n",
       "          require(['plotly'], function(Plotly) {\n",
       "            Plotly.newPlot('20f69a08-6698-4c70-91b3-04174925e427',\n",
       "    data_20f69a08, layout_20f69a08,\n",
       "    {showLink: false}\n",
       ");\n",
       "\n",
       "            if (window.Plotly == undefined) {\n",
       "                window.Plotly = Plotly;\n",
       "            }\n",
       "          });\n",
       "        }\n",
       "    })();\n",
       " </script>\n"
      ]
     },
     "execution_count": 49,
     "metadata": {},
     "output_type": "execute_result"
    }
   ],
   "source": [
    "p=plot(f, -2, 10)  \n",
    "\n",
    "scatter!(p,history)\n",
    "scatter!(p,[root],[f(root)], markersize = 5, label=string(\"x₁=\",root))\n"
   ]
  },
  {
   "cell_type": "markdown",
   "metadata": {
    "slideshow": {
     "slide_type": "slide"
    }
   },
   "source": [
    "# Getting Help\n",
    "1. [julialang.org](julialang.org)\n",
    "2. [juliabox.org](juliabox.org)\n",
    "3. Typing: `?command` in __RPEL__ or using __IJulia__ on __jupyter notebook__   \n",
    "4. Discourse discussion forum: [https://discourse.julialang.org/](https://discourse.julialang.org/)\n",
    "5. Gitter chat room(s):  [https://gitter.im/JuliaLang/julia](https://gitter.im/JuliaLang/julia)\n",
    "6. Goodle"
   ]
  },
  {
   "cell_type": "markdown",
   "metadata": {
    "slideshow": {
     "slide_type": "slide"
    }
   },
   "source": [
    "# Julia Features\n",
    "---\n",
    "<div class=\"two-cols\">\n",
    "    <div class=\"item_col\"> Fast </div>\n",
    "    <div class=\"item_col\"> Parallelism and Distributed Computation </div>\n",
    "    <div class=\"item_col\">  Flexible Syntax </div> \n",
    "    <div class=\"item_col\"> [Unicode Suppost](#-Unicode-suppost) </a></div> \n",
    "    <div class=\"item_col\">  Mutiple Dispatch  </div> \n",
    "    <div class=\"item_col\">  Built-in package manager (<code>Pkg.add(\"PackageName\")</code>) </div> \n",
    "    <div class=\"item_col\"> Metaprogramming </div> \n",
    "    <div class=\"item_col\"> Call C functions directly: no wrappers or special APIs </div> \n",
    "    <div class=\"item_col\"> Call Python functions </div> \n",
    "    <div class=\"item_col\"> User-defined types are as fast and compact as built-ins </div> \n",
    "</div>\n"
   ]
  },
  {
   "cell_type": "markdown",
   "metadata": {
    "slideshow": {
     "slide_type": "slide"
    }
   },
   "source": [
    "## Flexible Syntax\n",
    "### Example: Defining a function"
   ]
  },
  {
   "cell_type": "code",
   "execution_count": null,
   "metadata": {
    "slideshow": {
     "slide_type": "fragment"
    }
   },
   "outputs": [],
   "source": [
    "function f0(x)\n",
    "    return x^2\n",
    "end\n",
    "\n",
    "function f1(x)\n",
    "    x^2\n",
    "end\n",
    "\n",
    "f2(x) = x^2\n",
    "\n",
    "f3 =  x->x^2\n",
    "f4(x)= begin\n",
    "    x^2\n",
    "end\n",
    "f4(4)"
   ]
  },
  {
   "cell_type": "code",
   "execution_count": null,
   "metadata": {
    "slideshow": {
     "slide_type": "fragment"
    }
   },
   "outputs": [],
   "source": [
    "f1(3.), f2(3.), f3(3.)"
   ]
  },
  {
   "cell_type": "markdown",
   "metadata": {
    "slideshow": {
     "slide_type": "slide"
    }
   },
   "source": [
    "## <a name=\"unicode\"></a> Unicode suppost "
   ]
  },
  {
   "cell_type": "code",
   "execution_count": null,
   "metadata": {
    "slideshow": {
     "slide_type": "fragment"
    }
   },
   "outputs": [],
   "source": [
    "γ(α)=cos(α)"
   ]
  },
  {
   "cell_type": "code",
   "execution_count": null,
   "metadata": {
    "slideshow": {
     "slide_type": "fragment"
    }
   },
   "outputs": [],
   "source": [
    "γ(π)"
   ]
  },
  {
   "cell_type": "code",
   "execution_count": null,
   "metadata": {
    "scrolled": true,
    "slideshow": {
     "slide_type": "fragment"
    }
   },
   "outputs": [],
   "source": [
    "د(س)= س^2"
   ]
  },
  {
   "cell_type": "code",
   "execution_count": null,
   "metadata": {},
   "outputs": [],
   "source": [
    "د(د(2))+1"
   ]
  },
  {
   "cell_type": "code",
   "execution_count": null,
   "metadata": {
    "slideshow": {
     "slide_type": "fragment"
    }
   },
   "outputs": [],
   "source": [
    "ccall(:printf, Cint, (Ptr{Int8},), \"Hello from C!!\\n\");\n"
   ]
  },
  {
   "cell_type": "markdown",
   "metadata": {
    "slideshow": {
     "slide_type": "slide"
    }
   },
   "source": [
    "# Multiple Dispach"
   ]
  },
  {
   "cell_type": "code",
   "execution_count": null,
   "metadata": {
    "scrolled": true,
    "slideshow": {
     "slide_type": "slide"
    }
   },
   "outputs": [],
   "source": [
    "square_it(x)=x^2\n",
    "square_it(x::Vector)= x'*x\n",
    "square_it(x::Function)=y->x(x(y))\n",
    "\n",
    "# numbers\n",
    "#=\n",
    "println(\"The value of f at x=2 is $(f(2))\")\n",
    "println(\"The value of f at x=$(√2) is $(f(√2))\")\n",
    "println(\"The value of f at x=$(2+im) is $(f(2+im))\")\n",
    "\n",
    "# matrix\n",
    "a=[1 2;2 3]\n",
    "\n",
    "# vectors\n",
    "a=[1,2]\n",
    "\n",
    "#string\n",
    "a=\"محمد\"\n",
    "\n",
    "\n",
    "# functions\n",
    "a= function dummy(x)\n",
    "    x+1\n",
    "end\n",
    "\n",
    "=#"
   ]
  },
  {
   "cell_type": "code",
   "execution_count": null,
   "metadata": {
    "slideshow": {
     "slide_type": "slide"
    }
   },
   "outputs": [],
   "source": [
    "g(x)= x+1\n",
    "result=square_it(sin)(π/2)\n",
    "\n",
    "println(\"The square of $(g) is $(result) with type $(typeof(result))\")\n",
    "result===sin(sin(π/2))"
   ]
  },
  {
   "cell_type": "code",
   "execution_count": null,
   "metadata": {
    "slideshow": {
     "slide_type": "slide"
    }
   },
   "outputs": [],
   "source": [
    "function nextfib(n)\n",
    "    a, b = zero(n), one(n)\n",
    "    while b<=n\n",
    "        a, b = b, a + b\n",
    "    end\n",
    "    b\n",
    "end\n",
    "\n"
   ]
  },
  {
   "cell_type": "code",
   "execution_count": null,
   "metadata": {
    "slideshow": {
     "slide_type": "slide"
    }
   },
   "outputs": [],
   "source": [
    "@time nextfib(BigInt(10)^100)"
   ]
  },
  {
   "cell_type": "code",
   "execution_count": null,
   "metadata": {
    "slideshow": {
     "slide_type": "skip"
    }
   },
   "outputs": [],
   "source": [
    "ccall(:printf, Cint, (Ptr{UInt8},), \"Hello from C!!\\n\");\n"
   ]
  },
  {
   "cell_type": "markdown",
   "metadata": {
    "slideshow": {
     "slide_type": "slide"
    }
   },
   "source": [
    "# [Julia is Fast](./Julia is fast.ipynb) \n",
    "Almost as fast as C/C++\n",
    "\n",
    "1. [Benchmarks with other languages](./benchmarks.ipynb)\n",
    "1. [Simplex Benchmarks](https://github.com/mlubin/SimplexBenchmarks)"
   ]
  },
  {
   "cell_type": "markdown",
   "metadata": {
    "slideshow": {
     "slide_type": "slide"
    }
   },
   "source": [
    "# [Metaprogramming](./Metaprogramming.ipynb)\n",
    "* Metaprogramming is a programming technique in which computer programs have the ability to treat programs as their data. It means that a program can be designed to read, generate, analyse or transform other programs, and even modify itself while running.\n",
    "* Like Lisp, Julia represents its own code as a data structure of the language itself.\n",
    "* Use-case: Symbolic calculations"
   ]
  },
  {
   "cell_type": "markdown",
   "metadata": {
    "slideshow": {
     "slide_type": "slide"
    }
   },
   "source": [
    "# Parallelism and Distributed Computation\n",
    "* Julia supports parallel computation. \n",
    "* Its API is simple\n",
    "* It's a work in progress.\n",
    "* IntelLabs published a Julia package \"ParallelAccelerator.jl\" which optimizes the process.\n",
    "* [Demo](./parallel_computing.ipynb)\n"
   ]
  },
  {
   "cell_type": "markdown",
   "metadata": {
    "slideshow": {
     "slide_type": "slide"
    }
   },
   "source": [
    "# Fun miscellaneous features I like about Julia \n",
    "[Demo](./miscellaneous.ipynb)"
   ]
  },
  {
   "cell_type": "code",
   "execution_count": null,
   "metadata": {},
   "outputs": [],
   "source": []
  }
 ],
 "metadata": {
  "celltoolbar": "Slideshow",
  "kernelspec": {
   "display_name": "Julia 0.6.2",
   "language": "julia",
   "name": "julia-0.6"
  },
  "language_info": {
   "file_extension": ".jl",
   "mimetype": "application/julia",
   "name": "julia",
   "version": "0.6.2"
  }
 },
 "nbformat": 4,
 "nbformat_minor": 2
}
